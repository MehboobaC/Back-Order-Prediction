{
 "cells": [
  {
   "cell_type": "code",
   "execution_count": null,
   "id": "ed9f1aaa",
   "metadata": {},
   "outputs": [],
   "source": [
    "# Importing libraries\n",
    "import pandas as pd\n",
    "import numpy as np\n",
    "import matplotlib.pyplot as plt\n",
    "import seaborn as sns"
   ]
  },
  {
   "cell_type": "code",
   "execution_count": null,
   "id": "e9806bd8",
   "metadata": {},
   "outputs": [],
   "source": [
    "# Importing data\n",
    "#data=pd.read_csv(r'E:\\MEHBOOBA\\ONLINE COURSES\\1. Data Science\\INeuron\\INTERNSHIP\\Back-Order-Prediction\\data\\Train.csv', low_memory=False)"
   ]
  },
  {
   "cell_type": "code",
   "execution_count": null,
   "id": "f26748bd",
   "metadata": {},
   "outputs": [],
   "source": [
    "#data.head()"
   ]
  },
  {
   "cell_type": "code",
   "execution_count": null,
   "id": "e6f6df01",
   "metadata": {},
   "outputs": [],
   "source": [
    "#import cassandra\n",
    "#cassandra.__version__"
   ]
  },
  {
   "cell_type": "code",
   "execution_count": null,
   "id": "ef8dd1be",
   "metadata": {},
   "outputs": [],
   "source": [
    "#import os\n",
    "#import glob"
   ]
  },
  {
   "cell_type": "code",
   "execution_count": null,
   "id": "83b79eb3",
   "metadata": {},
   "outputs": [],
   "source": [
    "#path='C:/Users/user/Desktop/INeuron/INTERNSHIP/GeneratedToken.csv'\n",
    "#secret=pd.read_csv(path)"
   ]
  },
  {
   "cell_type": "code",
   "execution_count": null,
   "id": "88d646e5",
   "metadata": {},
   "outputs": [],
   "source": [
    "#secret['Client Secret']"
   ]
  },
  {
   "cell_type": "code",
   "execution_count": null,
   "id": "3b8c45d3",
   "metadata": {},
   "outputs": [],
   "source": [
    "#secret['Client Id']"
   ]
  },
  {
   "cell_type": "code",
   "execution_count": null,
   "id": "b48d0b72",
   "metadata": {},
   "outputs": [],
   "source": [
    "CLIENT_ID="
   ]
  },
  {
   "cell_type": "code",
   "execution_count": null,
   "id": "0aa45258",
   "metadata": {},
   "outputs": [],
   "source": [
    "from cassandra.cluster import Cluster\n",
    "from cassandra.auth import PlainTextAuthProvider\n",
    "\n",
    "cloud_config= {\n",
    "        'secure_connect_bundle': 'C:/Users/user/Desktop/INeuron/INTERNSHIP/secure-connect-ineuron.zip'\n",
    "}\n",
    "\n",
    "auth_provider = PlainTextAuthProvider('<<CLIENT ID>>', '<<CLIENT SECRET>>')\n",
    "cluster = Cluster(cloud=cloud_config, auth_provider=auth_provider)\n",
    "session = cluster.connect()\n",
    "\n",
    "row = session.execute(\"select release_version from system.local\").one()\n",
    "if row:\n",
    "    print(row[0])\n",
    "else:\n",
    "    print(\"An error occurred.\")"
   ]
  },
  {
   "cell_type": "code",
   "execution_count": null,
   "id": "efced97c",
   "metadata": {},
   "outputs": [],
   "source": []
  },
  {
   "cell_type": "code",
   "execution_count": null,
   "id": "a255cf35",
   "metadata": {},
   "outputs": [],
   "source": []
  }
 ],
 "metadata": {
  "kernelspec": {
   "display_name": "Python 3 (ipykernel)",
   "language": "python",
   "name": "python3"
  },
  "language_info": {
   "codemirror_mode": {
    "name": "ipython",
    "version": 3
   },
   "file_extension": ".py",
   "mimetype": "text/x-python",
   "name": "python",
   "nbconvert_exporter": "python",
   "pygments_lexer": "ipython3",
   "version": "3.7.10"
  }
 },
 "nbformat": 4,
 "nbformat_minor": 5
}
